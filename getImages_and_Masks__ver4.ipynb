{
  "nbformat": 4,
  "nbformat_minor": 0,
  "metadata": {
    "colab": {
      "name": "getImages_and_Masks _ver3.ipynb",
      "provenance": [],
      "include_colab_link": true
    },
    "kernelspec": {
      "name": "python3",
      "display_name": "Python 3"
    },
    "language_info": {
      "name": "python"
    }
  },
  "cells": [
    {
      "cell_type": "markdown",
      "metadata": {
        "id": "view-in-github",
        "colab_type": "text"
      },
      "source": [
        "<a href=\"https://colab.research.google.com/github/Anshuman-02905/Custom_Satellite_Scripts/blob/main/getImages_and_Masks__ver4.ipynb\" target=\"_parent\"><img src=\"https://colab.research.google.com/assets/colab-badge.svg\" alt=\"Open In Colab\"/></a>"
      ]
    },
    {
      "cell_type": "code",
      "execution_count": 21,
      "metadata": {
        "id": "E7opf9iM5oTS"
      },
      "outputs": [],
      "source": [
        "%%capture\n",
        "!pip install geemap\n",
        "!pip install geopandas\n",
        "!apt-get update\n",
        "!apt-get install libgdal-dev -y\n",
        "!apt-get install python-gdal -y\n",
        "!apt-get install python-numpy python-scipy -y"
      ]
    },
    {
      "cell_type": "code",
      "source": [
        "import geemap\n",
        "import os\n",
        "import glob\n",
        "import gdal ## fingers crossed!\n",
        "import os\n",
        "import ee\n",
        "import pandas as pd\n",
        "import numpy as np\n",
        "import math\n",
        "import geopandas as gpd\n",
        "import pandas as pd\n",
        "from shapely.geometry import Point, Polygon\n",
        "import folium\n",
        "import os"
      ],
      "metadata": {
        "id": "t9fRr-GW5zFb"
      },
      "execution_count": 22,
      "outputs": []
    },
    {
      "cell_type": "code",
      "source": [
        "os.mkdir(\"Sentinel_png\")\n",
        "os.mkdir(\"Mask_png\")\n",
        "os.mkdir(\"Sentinel_tif\")\n",
        "os.mkdir(\"Urban_tif\")\n"
      ],
      "metadata": {
        "id": "1WUzLE7S6If6",
        "colab": {
          "base_uri": "https://localhost:8080/",
          "height": 217
        },
        "outputId": "d5b211f6-fbb2-4ecd-d4c1-981be64c7337"
      },
      "execution_count": 23,
      "outputs": [
        {
          "output_type": "error",
          "ename": "FileExistsError",
          "evalue": "ignored",
          "traceback": [
            "\u001b[0;31m---------------------------------------------------------------------------\u001b[0m",
            "\u001b[0;31mFileExistsError\u001b[0m                           Traceback (most recent call last)",
            "\u001b[0;32m<ipython-input-23-ee6b5ad8721c>\u001b[0m in \u001b[0;36m<module>\u001b[0;34m()\u001b[0m\n\u001b[0;32m----> 1\u001b[0;31m \u001b[0mos\u001b[0m\u001b[0;34m.\u001b[0m\u001b[0mmkdir\u001b[0m\u001b[0;34m(\u001b[0m\u001b[0;34m\"Sentinel_png\"\u001b[0m\u001b[0;34m)\u001b[0m\u001b[0;34m\u001b[0m\u001b[0;34m\u001b[0m\u001b[0m\n\u001b[0m\u001b[1;32m      2\u001b[0m \u001b[0mos\u001b[0m\u001b[0;34m.\u001b[0m\u001b[0mmkdir\u001b[0m\u001b[0;34m(\u001b[0m\u001b[0;34m\"Mask_png\"\u001b[0m\u001b[0;34m)\u001b[0m\u001b[0;34m\u001b[0m\u001b[0;34m\u001b[0m\u001b[0m\n\u001b[1;32m      3\u001b[0m \u001b[0mos\u001b[0m\u001b[0;34m.\u001b[0m\u001b[0mmkdir\u001b[0m\u001b[0;34m(\u001b[0m\u001b[0;34m\"Sentinel_tif\"\u001b[0m\u001b[0;34m)\u001b[0m\u001b[0;34m\u001b[0m\u001b[0;34m\u001b[0m\u001b[0m\n\u001b[1;32m      4\u001b[0m \u001b[0mos\u001b[0m\u001b[0;34m.\u001b[0m\u001b[0mmkdir\u001b[0m\u001b[0;34m(\u001b[0m\u001b[0;34m\"Urban_tif\"\u001b[0m\u001b[0;34m)\u001b[0m\u001b[0;34m\u001b[0m\u001b[0;34m\u001b[0m\u001b[0m\n",
            "\u001b[0;31mFileExistsError\u001b[0m: [Errno 17] File exists: 'Sentinel_png'"
          ]
        }
      ]
    },
    {
      "cell_type": "code",
      "source": [
        "Sentinel_tif=\"/content/Sentinel_tif/\"\n",
        "urban_tif=\"/content/Urban_tif/\"\n",
        "Sentinel_png=\"/content/Sentinel_png/\"\n",
        "Mask_png=\"/content/Mask_png/\""
      ],
      "metadata": {
        "id": "zOIWRI6_fhLO"
      },
      "execution_count": 35,
      "outputs": []
    },
    {
      "cell_type": "code",
      "source": [
        "Map=geemap.Map() "
      ],
      "metadata": {
        "id": "eEQCBJoz50gq"
      },
      "execution_count": 26,
      "outputs": []
    },
    {
      "cell_type": "code",
      "source": [
        "Map=geemap.Map()\n",
        "state = ee.FeatureCollection(\"FAO/GAUL/2015/level2\").filter(ee.Filter.eq('ADM2_NAME','Bangalore Urban'))\n",
        "sentinel = ee.ImageCollection('COPERNICUS/S2_SR').select(['B4', 'B3', 'B2']) \\\n",
        "                  .filterDate('2017-01-01', '2020-01-30') \\\n",
        "                  .filter(ee.Filter.lt('CLOUDY_PIXEL_PERCENTAGE',5)) \\\n",
        "                  .filterBounds(state)\n",
        "image = sentinel.mean().divide(10000).clip(state).select(['B4', 'B3', 'B2']).unmask()\n",
        "\n",
        "visualization = {\n",
        "  'min': 0.0,\n",
        "  'max': 0.3,\n",
        "  'bands': ['B4', 'B3', 'B2'],\n",
        "  }\n",
        "#Map.addLayer(sentinel.mean().divide(10000).clip(state), visualization, 'RGB')\n",
        "\n",
        "mask = ee.Image(\"DLR/WSF/WSF2015/v1\").clip(state)\n",
        "\n",
        "visualization = {\n",
        "  'min': 0,\n",
        "  'max': 255,\n",
        "}\n",
        "\n",
        "#Map.addLayer(urban.clip(state), visualization, \"Human1\")\n",
        "mask=mask.expression('b(\"settlement\") == 255 ? 255:0',{'settlement':mask.select('settlement')}).clip(state)\n",
        "\n",
        "Map.addLayer(mask, visualization, \"Human2\")\n",
        "Map.centerObject(state)\n",
        "Sentinel=\"/content/Sentinel_tif/\"+\"sentinel.tif\"\n",
        "urban=\"/content/Urban_tif/\"+\"final.tif\"\n",
        "\n",
        "geemap.ee_export_image(mask, filename=urban, scale=50, region=state.geometry(), file_per_band=False)\n",
        "geemap.ee_export_image(image, filename=Sentinel, scale=50, region=state.geometry(), file_per_band=False)\n",
        "text1=\"/content/Sentinel_png/\"+\"sentinel\"+\".png\"\n",
        "text2=\"/content/Mask_png/\"+\"final\"+\".png\"\n",
        "options_list = ['-ot Byte','-of PNG','-scale 0 0.3 0 255'] \n",
        "options_string = \" \".join(options_list) \n",
        "gdal.Translate(text1,Sentinel, options=options_string)\n",
        "options_list = ['-ot Byte','-of PNG'] \n",
        "options_string = \" \".join(options_list)\n",
        "gdal.Translate(text2, urban, options=options_string) \n",
        "\n",
        "\n"
      ],
      "metadata": {
        "colab": {
          "base_uri": "https://localhost:8080/",
          "height": 173
        },
        "id": "e297-_CwCyuK",
        "outputId": "117a8a3e-3f24-4f59-d2fd-87e541f3fa18"
      },
      "execution_count": null,
      "outputs": [
        {
          "output_type": "stream",
          "name": "stdout",
          "text": [
            "Generating URL ...\n",
            "Downloading data from https://earthengine.googleapis.com/v1alpha/projects/earthengine-legacy/thumbnails/9b35b3afaed6123e9f82a3c27deab855-8bf614e1612d32b05a19a453f1af7435:getPixels\n",
            "Please wait ...\n",
            "Data downloaded to /content/Urban_tif/final.tif\n",
            "Generating URL ...\n",
            "Downloading data from https://earthengine.googleapis.com/v1alpha/projects/earthengine-legacy/thumbnails/ab4afdd4e69ca9645329afdaf5721221-849194e7af4e10a8ff5ae5efd7ea2d00:getPixels\n",
            "Please wait ...\n",
            "Data downloaded to /content/Sentinel_tif/sentinel.tif\n"
          ]
        },
        {
          "output_type": "execute_result",
          "data": {
            "text/plain": [
              "<osgeo.gdal.Dataset; proxy of <Swig Object of type 'GDALDatasetShadow *' at 0x7f87994ac720> >"
            ]
          },
          "metadata": {},
          "execution_count": 8
        }
      ]
    },
    {
      "cell_type": "code",
      "source": [
        "#state = ee.FeatureCollection(\"FAO/GAUL/2015/level2\").filter(ee.Filter.eq('ADM2_NAME','Bangalore Urban'))\n",
        "#shps=state.getInfo()['features'][0]['geometry']['coordinates']"
      ],
      "metadata": {
        "id": "j2pB_KpBDCMN"
      },
      "execution_count": null,
      "outputs": []
    },
    {
      "cell_type": "code",
      "source": [
        "#state.getInfo()['features'][0]['geometry']['coordinates']"
      ],
      "metadata": {
        "id": "4VT79gVzDRYc"
      },
      "execution_count": null,
      "outputs": []
    },
    {
      "cell_type": "code",
      "source": [
        "'''final_list = [item for sublist in shps for item in sublist]\n",
        "min_lat=1000;\n",
        "min_lon=1000;\n",
        "max_lat=-1000;\n",
        "max_lon=-1000;\n",
        "for i in final_list:\n",
        "  min_lat=min(min_lat,i[0])\n",
        "  min_lon=min(min_lon,i[1])\n",
        "  max_lat=max(max_lat,i[0])\n",
        "  max_lon=max(max_lon,i[1])\n",
        "min_lon-=0.00098\n",
        "max_lon+=0.00998\n",
        "left_upper=tuple([min_lat,min_lon])\n",
        "left_lower=tuple([max_lat,min_lon])\n",
        "right_lower=tuple([max_lat,max_lon])\n",
        "right_upper=tuple([min_lat,max_lon])'''"
      ],
      "metadata": {
        "id": "gwxIju54ESLT"
      },
      "execution_count": null,
      "outputs": []
    },
    {
      "cell_type": "code",
      "source": [
        "#def get_distance(LA1,LN1,LA2,LN2):\n",
        "#  return math.sqrt(math.pow((LA1-LA2),2)+math.pow((LN1-LN2),2))"
      ],
      "metadata": {
        "id": "OhaAXIOvS-x3"
      },
      "execution_count": null,
      "outputs": []
    },
    {
      "cell_type": "code",
      "source": [
        "#left_dist=get_distance(left_upper[0],left_upper[1],left_lower[0],left_lower[1])\n",
        "#print(left_dist)\n",
        "#right_dist=get_distance(right_upper[0],right_upper[1],right_lower[0],right_lower[1])\n",
        "#print(right_dist)\n",
        "#upper_dist=get_distance(left_upper[0],left_upper[1],right_upper[0],right_upper[1])\n",
        "#print(upper_dist)\n",
        "#lower_dist=get_distance(left_lower[0],left_lower[1],right_lower[0],right_lower[1])\n",
        "#print(lower_dist)\n",
        "left_dist=0.5033789690619983\n",
        "right_dist=0.5033789690619983\n",
        "upper_dist=0.5859878671830234\n",
        "lower_dist=0.5859878671830234"
      ],
      "metadata": {
        "id": "AzTxInCjRNE5"
      },
      "execution_count": 9,
      "outputs": []
    },
    {
      "cell_type": "code",
      "source": [
        "final_list=list()\n",
        "cord=[12.977200441508167, 77.58441571886084]\n",
        "Lat=cord[0]\n",
        "Lon=cord[1]\n",
        "c=0\n",
        "for i in range(0,1):\n",
        "  Lon=cord[1]\n",
        "  for j in range(0,2):\n",
        "    LL=[Lon,Lat]\n",
        "    UL=[Lon,Lat+left_dist]\n",
        "    LR=[Lon+lower_dist,Lat]\n",
        "    UR=[Lon+lower_dist,Lat+left_dist]\n",
        "    final_list=[LL,LR,UR,UL,LL]\n",
        "    result=get_boundaries(final_list,c)\n",
        "    if result!=-1:\n",
        "      c+=1\n",
        "    print(final_list)\n",
        "    Lon+=lower_dist\n",
        "  Lat+=left_dist\n",
        " #Map.setCenter(cord[1],cord[0],10)\n",
        "#Map\n",
        "#print(final_list)"
      ],
      "metadata": {
        "colab": {
          "base_uri": "https://localhost:8080/",
          "height": 280
        },
        "id": "3hNzBEo_Z8xu",
        "outputId": "de3ad6f2-e0bc-4727-ab18-e1e6526a8a6f"
      },
      "execution_count": 29,
      "outputs": [
        {
          "output_type": "stream",
          "name": "stderr",
          "text": [
            "/usr/local/lib/python3.7/dist-packages/pyproj/crs/crs.py:131: FutureWarning: '+init=<authority>:<code>' syntax is deprecated. '<authority>:<code>' is the preferred initialization method. When making the change, be mindful of axis order changes: https://pyproj4.github.io/pyproj/stable/gotchas.html#axis-order-changes-in-proj-6\n",
            "  in_crs_string = _prepare_from_proj_string(in_crs_string)\n",
            "/usr/local/lib/python3.7/dist-packages/ipykernel_launcher.py:6: FutureWarning: Assigning CRS to a GeoDataFrame without a geometry column is now deprecated and will not be supported in the future.\n",
            "  \n"
          ]
        },
        {
          "output_type": "stream",
          "name": "stdout",
          "text": [
            "local variable 'Sentinel' referenced before assignment\n",
            "Exception\n",
            "[[77.58441571886084, 12.977200441508167], [78.17040358604386, 12.977200441508167], [78.17040358604386, 13.480579410570165], [77.58441571886084, 13.480579410570165], [77.58441571886084, 12.977200441508167]]\n"
          ]
        },
        {
          "output_type": "stream",
          "name": "stderr",
          "text": [
            "/usr/local/lib/python3.7/dist-packages/pyproj/crs/crs.py:131: FutureWarning: '+init=<authority>:<code>' syntax is deprecated. '<authority>:<code>' is the preferred initialization method. When making the change, be mindful of axis order changes: https://pyproj4.github.io/pyproj/stable/gotchas.html#axis-order-changes-in-proj-6\n",
            "  in_crs_string = _prepare_from_proj_string(in_crs_string)\n",
            "/usr/local/lib/python3.7/dist-packages/ipykernel_launcher.py:6: FutureWarning: Assigning CRS to a GeoDataFrame without a geometry column is now deprecated and will not be supported in the future.\n",
            "  \n"
          ]
        },
        {
          "output_type": "stream",
          "name": "stdout",
          "text": [
            "local variable 'Sentinel' referenced before assignment\n",
            "Exception\n",
            "[[78.17040358604386, 12.977200441508167], [78.75639145322688, 12.977200441508167], [78.75639145322688, 13.480579410570165], [78.17040358604386, 13.480579410570165], [78.17040358604386, 12.977200441508167]]\n"
          ]
        }
      ]
    },
    {
      "cell_type": "code",
      "source": [
        "final_list=list()\n",
        "#cord=[0, 0]\n",
        "cord=[12.977200441508167, 77.58441571886084]\n",
        "\n",
        "Lat=cord[0]\n",
        "Lon=cord[1]\n",
        "c=0\n",
        "for i in range(0,1):\n",
        "  Lon=cord[1]\n",
        "  for j in range(0,4):\n",
        "    LL=[Lon,Lat]\n",
        "    UL=[Lon,Lat+left_dist]\n",
        "    LR=[Lon+lower_dist,Lat]\n",
        "    UR=[Lon+lower_dist,Lat+left_dist]\n",
        "    final_list=[LL,LR,UR,UL,LL]\n",
        "    result=get_boundaries(final_list,c)\n",
        "    if result!=-1:\n",
        "      c+=1\n",
        "    print(final_list)\n",
        "    print(\"Image_number\",c)\n",
        "    Lon+=lower_dist\n",
        "  Lat+=left_dist\n",
        " #Map.setCenter(cord[1],cord[0],10)\n",
        "#Map\n",
        "#print(final_list)"
      ],
      "metadata": {
        "colab": {
          "base_uri": "https://localhost:8080/",
          "height": 471
        },
        "id": "8V4uA1mGb7Wx",
        "outputId": "c249e627-ec64-428e-b16a-4200a9888a08"
      },
      "execution_count": null,
      "outputs": [
        {
          "output_type": "stream",
          "name": "stderr",
          "text": [
            "/usr/local/lib/python3.7/dist-packages/pyproj/crs/crs.py:131: FutureWarning: '+init=<authority>:<code>' syntax is deprecated. '<authority>:<code>' is the preferred initialization method. When making the change, be mindful of axis order changes: https://pyproj4.github.io/pyproj/stable/gotchas.html#axis-order-changes-in-proj-6\n",
            "  in_crs_string = _prepare_from_proj_string(in_crs_string)\n",
            "/usr/local/lib/python3.7/dist-packages/ipykernel_launcher.py:6: FutureWarning: Assigning CRS to a GeoDataFrame without a geometry column is now deprecated and will not be supported in the future.\n",
            "  \n"
          ]
        },
        {
          "output_type": "stream",
          "name": "stdout",
          "text": [
            "Generating URL ...\n",
            "Downloading data from https://earthengine.googleapis.com/v1alpha/projects/earthengine-legacy/thumbnails/a7a9c3162ea654e09c99d7e4d66580f9-b7354d2b415e59a6cbf80f5003071978:getPixels\n",
            "Please wait ...\n",
            "Data downloaded to /content/Urban_tif/0.tif\n",
            "Generating URL ...\n",
            "Downloading data from https://earthengine.googleapis.com/v1alpha/projects/earthengine-legacy/thumbnails/e35e8ee456b71a5a8d3a4aa08a5c8b2e-5d7b73f7cd742e1dd77414a2f8c3c6ac:getPixels\n",
            "Please wait ...\n",
            "Data downloaded to /content/Sentinel_tif/0.tif\n",
            "[[77.58441571886084, 12.977200441508167], [78.17040358604386, 12.977200441508167], [78.17040358604386, 13.480579410570165], [77.58441571886084, 13.480579410570165], [77.58441571886084, 12.977200441508167]]\n",
            "Image_number 1\n"
          ]
        },
        {
          "output_type": "stream",
          "name": "stderr",
          "text": [
            "/usr/local/lib/python3.7/dist-packages/pyproj/crs/crs.py:131: FutureWarning: '+init=<authority>:<code>' syntax is deprecated. '<authority>:<code>' is the preferred initialization method. When making the change, be mindful of axis order changes: https://pyproj4.github.io/pyproj/stable/gotchas.html#axis-order-changes-in-proj-6\n",
            "  in_crs_string = _prepare_from_proj_string(in_crs_string)\n",
            "/usr/local/lib/python3.7/dist-packages/ipykernel_launcher.py:6: FutureWarning: Assigning CRS to a GeoDataFrame without a geometry column is now deprecated and will not be supported in the future.\n",
            "  \n"
          ]
        },
        {
          "output_type": "stream",
          "name": "stdout",
          "text": [
            "Generating URL ...\n",
            "Downloading data from https://earthengine.googleapis.com/v1alpha/projects/earthengine-legacy/thumbnails/72110e168cb9098b5737a99114643342-65ec76d3d96b1b673552aabb2620c492:getPixels\n",
            "Please wait ...\n",
            "Data downloaded to /content/Urban_tif/1.tif\n",
            "Generating URL ...\n",
            "Downloading data from https://earthengine.googleapis.com/v1alpha/projects/earthengine-legacy/thumbnails/d211ef091019f989c3c03af144fa613d-05341fdb32a36dba058a1781bcd6aae8:getPixels\n",
            "Please wait ...\n",
            "Data downloaded to /content/Sentinel_tif/1.tif\n"
          ]
        }
      ]
    },
    {
      "cell_type": "code",
      "source": [
        "'''final_list=[[ 77.58441571886084,12.977200441508167],\n",
        " [78.17040358604386,12.977200441508167],\n",
        " [78.17040358604386,13.480579410570165],\n",
        " [77.58441571886084,13.480579410570165],\n",
        " [77.58441571886084,12.977200441508167]]'''"
      ],
      "metadata": {
        "id": "gFrBmTiYm8OE"
      },
      "execution_count": null,
      "outputs": []
    },
    {
      "cell_type": "code",
      "source": [
        "#print(final_list)"
      ],
      "metadata": {
        "id": "B-NSAaz5EoSm",
        "colab": {
          "base_uri": "https://localhost:8080/"
        },
        "outputId": "4a42df6a-3f3e-4513-989f-098e6dea84c1"
      },
      "execution_count": null,
      "outputs": [
        {
          "output_type": "stream",
          "name": "stdout",
          "text": [
            "[[77.58441571886084, 12.977200441508167], [78.17040358604386, 12.977200441508167], [78.17040358604386, 13.480579410570165], [77.58441571886084, 13.480579410570165], [77.58441571886084, 12.977200441508167]]\n"
          ]
        }
      ]
    },
    {
      "cell_type": "code",
      "source": [
        "def get_boundaries(final_list,c):\n",
        "  coordinates = final_list\n",
        "  def create_polygon(coords, polygon_name):\n",
        "    ''' Create a polygon from coordinates'''\n",
        "    polygon = Polygon(coordinates)\n",
        "    gdf = gpd.GeoDataFrame(crs = {'init' :'epsg:4326'})\n",
        "    gdf.loc[0,'name'] = polygon_name\n",
        "    gdf.loc[0, 'geometry'] = polygon\n",
        "    return gdf\n",
        "  shapefile = create_polygon(coordinates, \"Amesterdam\")\n",
        "  shapefile.to_file(\"newboundary.shp\")\n",
        "  mine_shp=\"/content/newboundary.shp\"\n",
        "  mine = geemap.shp_to_ee(mine_shp) \n",
        "  return func(c)\n",
        "  #return -1\n",
        "\n",
        "  "
      ],
      "metadata": {
        "id": "V-waipNND6Hy"
      },
      "execution_count": 36,
      "outputs": []
    },
    {
      "cell_type": "code",
      "source": [
        "print(get_boundaries(final_list,1))"
      ],
      "metadata": {
        "colab": {
          "base_uri": "https://localhost:8080/"
        },
        "id": "zSHw8w69TwyG",
        "outputId": "1ec5a10f-16c8-4119-cd26-bf2cd6f839fd"
      },
      "execution_count": null,
      "outputs": [
        {
          "output_type": "stream",
          "name": "stderr",
          "text": [
            "/usr/local/lib/python3.7/dist-packages/pyproj/crs/crs.py:131: FutureWarning: '+init=<authority>:<code>' syntax is deprecated. '<authority>:<code>' is the preferred initialization method. When making the change, be mindful of axis order changes: https://pyproj4.github.io/pyproj/stable/gotchas.html#axis-order-changes-in-proj-6\n",
            "  in_crs_string = _prepare_from_proj_string(in_crs_string)\n",
            "/usr/local/lib/python3.7/dist-packages/ipykernel_launcher.py:6: FutureWarning: Assigning CRS to a GeoDataFrame without a geometry column is now deprecated and will not be supported in the future.\n",
            "  \n"
          ]
        },
        {
          "output_type": "stream",
          "name": "stdout",
          "text": [
            "-1\n"
          ]
        }
      ]
    },
    {
      "cell_type": "code",
      "source": [
        "'''mine_shp=\"/content/newboundary.shp\"\n",
        "mine = geemap.shp_to_ee(mine_shp) \n",
        "Map=geemap.Map()\n",
        "state = mine\n",
        "sentinel = ee.ImageCollection('COPERNICUS/S2_SR').select(['B4', 'B3', 'B2']) \\\n",
        "                  .filterDate('2017-01-01', '2020-01-30') \\\n",
        "                  .filter(ee.Filter.lt('CLOUDY_PIXEL_PERCENTAGE',5)) \\\n",
        "                  .filterBounds(state)\n",
        "image = sentinel.mean().divide(10000).clip(state).select(['B4', 'B3', 'B2']).unmask()\n",
        "\n",
        "visualization = {\n",
        "    'min': 0.0,\n",
        "    'max': 0.3,\n",
        "    'bands': ['B4', 'B3', 'B2'],\n",
        "}\n",
        "Map.addLayer(image, visualization, 'RGB')\n",
        "Map.centerObject(state)\n",
        "Map'''"
      ],
      "metadata": {
        "id": "XPCGAS_4UJTH"
      },
      "execution_count": null,
      "outputs": []
    },
    {
      "cell_type": "code",
      "source": [
        "def func(c):\n",
        "  try:\n",
        "    mine_shp=\"/content/newboundary.shp\"\n",
        "    mine = geemap.shp_to_ee(mine_shp) \n",
        "    Map=geemap.Map()\n",
        "    state = mine\n",
        "    #Map=geemap.Map()\n",
        "    #state = ee.FeatureCollection(\"FAO/GAUL/2015/level2\").filter(ee.Filter.eq('ADM2_NAME','Bangalore Urban'))\n",
        "    sentinel = ee.ImageCollection('COPERNICUS/S2_SR').select(['B4', 'B3', 'B2']) \\\n",
        "                  .filterDate('2017-01-01', '2020-01-30') \\\n",
        "                  .filter(ee.Filter.lt('CLOUDY_PIXEL_PERCENTAGE',5)) \\\n",
        "                  .filterBounds(state)\n",
        "    image = sentinel.mean().divide(10000).clip(state).select(['B4', 'B3', 'B2']).unmask()\n",
        "\n",
        "    visualization = {\n",
        "    'min': 0.0,\n",
        "    'max': 0.3,\n",
        "    'bands': ['B4', 'B3', 'B2'],\n",
        "    }\n",
        "    Map.addLayer(image, visualization, 'RGB')\n",
        "\n",
        "    mask = ee.Image(\"DLR/WSF/WSF2015/v1\").clip(state)\n",
        "\n",
        "    visualization = {\n",
        "    'min': 0,\n",
        "    'max': 255,\n",
        "    }\n",
        "\n",
        "    #Map.addLayer(urban.clip(state), visualization, \"Human1\")\n",
        "    mask=mask.expression('b(\"settlement\") == 255 ? 255:0',{'settlement':mask.select('settlement')}).clip(state)\n",
        "\n",
        "    Map.addLayer(mask, visualization, \"Human2\")\n",
        "    Map.centerObject(image)\n",
        "    Sentinel=Sentinel_tif+str(c)+\".tif\"\n",
        "    urban=urban_tif+str(c)+\".tif\"\n",
        "\n",
        "    geemap.ee_export_image(mask, filename=urban, scale=50, region=state.geometry(), file_per_band=False)\n",
        "    geemap.ee_export_image(image, filename=Sentinel, scale=50, region=state.geometry(), file_per_band=False)\n",
        "    Sentinel_mask=Sentinel_png+str(c)+\".png\"\n",
        "    Mask_mask=Mask_png+str(c)+\".png\"\n",
        "    options_list = ['-ot Byte','-of PNG','-scale 0 0.3 0 255'] \n",
        "    options_string = \" \".join(options_list) \n",
        "    gdal.Translate(Sentinel_mask,Sentinel, options=options_string)\n",
        "    options_list = ['-ot Byte','-of PNG'] \n",
        "    options_string = \" \".join(options_list)\n",
        "    gdal.Translate(Mask_mask, urban, options=options_string)\n",
        "    xml1=Sentinel_mask+\".aux.xml\"\n",
        "    xml2=Mask_mask+\".aux.xml\"\n",
        "    os.remove(xml1)\n",
        "    os.remove(xml2)\n",
        "    return 1\n",
        "  except Exception as e:\n",
        "    print(e)\n",
        "    print(\"Exception\")\n",
        "    return -1\n"
      ],
      "metadata": {
        "id": "R3ylNdF4Ew9w"
      },
      "execution_count": 34,
      "outputs": []
    },
    {
      "cell_type": "code",
      "source": [
        "Map"
      ],
      "metadata": {
        "id": "4bLz7sveE9TD"
      },
      "execution_count": null,
      "outputs": []
    },
    {
      "cell_type": "code",
      "source": [
        "final_list"
      ],
      "metadata": {
        "id": "BSPWbowtH1IM",
        "outputId": "9023cda9-91e3-4799-8b0a-156b3d5a8545",
        "colab": {
          "base_uri": "https://localhost:8080/"
        }
      },
      "execution_count": null,
      "outputs": [
        {
          "output_type": "execute_result",
          "data": {
            "text/plain": [
              "[[0, 28.64068271262587],\n",
              " [0.5859878671830234, 28.64068271262587],\n",
              " [0.5859878671830234, 29.14406168168787],\n",
              " [0, 29.14406168168787],\n",
              " [0, 28.64068271262587]]"
            ]
          },
          "metadata": {},
          "execution_count": 44
        }
      ]
    },
    {
      "cell_type": "code",
      "source": [
        ""
      ],
      "metadata": {
        "id": "2T5gpCJcl9py"
      },
      "execution_count": null,
      "outputs": []
    }
  ]
}