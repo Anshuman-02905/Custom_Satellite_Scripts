{
  "nbformat": 4,
  "nbformat_minor": 0,
  "metadata": {
    "colab": {
      "name": "GetSentinel.ipynb",
      "provenance": [],
      "mount_file_id": "1OmCQfRVLFwCGV160a7osvBOF0G2PRk3R",
      "authorship_tag": "ABX9TyOGefHc4LouNtcdt0C52cbU",
      "include_colab_link": true
    },
    "kernelspec": {
      "name": "python3",
      "display_name": "Python 3"
    },
    "language_info": {
      "name": "python"
    }
  },
  "cells": [
    {
      "cell_type": "markdown",
      "metadata": {
        "id": "view-in-github",
        "colab_type": "text"
      },
      "source": [
        "<a href=\"https://colab.research.google.com/github/Anshuman-02905/Custom_Satellite_Scripts/blob/main/GetSentinelData.ipynb\" target=\"_parent\"><img src=\"https://colab.research.google.com/assets/colab-badge.svg\" alt=\"Open In Colab\"/></a>"
      ]
    },
    {
      "cell_type": "code",
      "execution_count": null,
      "metadata": {
        "id": "SIxqNPVezPs8"
      },
      "outputs": [],
      "source": [
        "!pip install geemap"
      ]
    },
    {
      "cell_type": "code",
      "source": [
        "import geemap"
      ],
      "metadata": {
        "id": "ijJyRaS8zVUo"
      },
      "execution_count": 42,
      "outputs": []
    },
    {
      "cell_type": "code",
      "source": [
        "import os\n",
        "import glob\n",
        "\n",
        "files = glob.glob('/content/Sentinel/*')\n",
        "for f in files:\n",
        "    os.remove(f)"
      ],
      "metadata": {
        "id": "0RQr7DdYdnAn"
      },
      "execution_count": 149,
      "outputs": []
    },
    {
      "cell_type": "code",
      "source": [
        "Map=geemap.Map()"
      ],
      "metadata": {
        "id": "W13PolXT0FV4"
      },
      "execution_count": 43,
      "outputs": []
    },
    {
      "cell_type": "code",
      "source": [
        "root_directory=\"/content/drive/MyDrive/mines\""
      ],
      "metadata": {
        "id": "7gmbEOww1T3k"
      },
      "execution_count": 46,
      "outputs": []
    },
    {
      "cell_type": "code",
      "source": [
        "import os\n",
        "import ee"
      ],
      "metadata": {
        "id": "TKmHZ9rj1sV8"
      },
      "execution_count": 75,
      "outputs": []
    },
    {
      "cell_type": "code",
      "source": [
        "\n",
        "def download_image(mine_shape,mine_path):\n",
        "  dataset = ee.ImageCollection('COPERNICUS/S2_SR').select(['B4', 'B3', 'B2']) \\\n",
        "                  .filterDate('2017-01-01', '2020-01-30') \\\n",
        "                  .filter(ee.Filter.lt('CLOUDY_PIXEL_PERCENTAGE',5)) \\\n",
        "                  .filterBounds(mine_shape)\n",
        "\n",
        "  visualization = {\n",
        "  'min': 0.0,\n",
        "  'max': 0.3,\n",
        "  'bands': ['B4', 'B3', 'B2'],\n",
        "  }\n",
        "\n",
        "  #Map.centerObject(dataset, 12)\n",
        "\n",
        "  #Map.addLayer(dataset.mean().divide(10000).clip(mine), visualization, 'RGB')\n",
        "\n",
        "  image = dataset.mean().divide(10000).select(['B4', 'B3', 'B2']).unmask()\n",
        "  geemap.ee_export_image(image, filename=mine_path, scale=10, region=mine.geometry(), file_per_band=False)\n"
      ],
      "metadata": {
        "id": "ySHSyb92nmk3"
      },
      "execution_count": 159,
      "outputs": []
    },
    {
      "cell_type": "code",
      "source": [
        "for path, subdirs, files in os.walk(root_directory):\n",
        "  #print(files)\n",
        "  for item in files:\n",
        "    if(item.split('.')[-1]=='shp' and item.split('.')[0][-3:]!=\"gcs\"):\n",
        "      #print(path+\"/\"+item)\n",
        "      mine_shp = path+\"/\"+item\n",
        "      mine = geemap.shp_to_ee(mine_shp)\n",
        "      mine_path=(\"/content/drive/MyDrive/Sentinel/\"+item.split(\".\")[0]+\".tif\")\n",
        "      print(\"Downloading the image of mine: \"+item.split('.')[0])\n",
        "      download_image(mine,mine_path)\n",
        "      \n",
        "    "
      ],
      "metadata": {
        "colab": {
          "base_uri": "https://localhost:8080/"
        },
        "id": "e3Eonvsu2CSQ",
        "outputId": "aac647a7-5283-43db-d925-524d19d845c1"
      },
      "execution_count": 161,
      "outputs": [
        {
          "output_type": "stream",
          "name": "stdout",
          "text": [
            "Downloading the image of mine: urdhan\n",
            "Generating URL ...\n",
            "Downloading data from https://earthengine.googleapis.com/v1alpha/projects/earthengine-legacy/thumbnails/4fb1db1f01f670359c54bf5a43c77319-17aa29aa1766548aed5a4d31fddc722f:getPixels\n",
            "Please wait ...\n",
            "Data downloaded to /content/drive/MyDrive/Sentinel/urdhan.tif\n",
            "Downloading the image of mine: telwasa\n",
            "Generating URL ...\n",
            "Downloading data from https://earthengine.googleapis.com/v1alpha/projects/earthengine-legacy/thumbnails/8b1e757da8b5c9cc45caeeb8dff400e6-d3ce4f36d0324d42948136c252264789:getPixels\n",
            "Please wait ...\n",
            "Data downloaded to /content/drive/MyDrive/Sentinel/telwasa.tif\n",
            "Downloading the image of mine: Penganga\n",
            "Generating URL ...\n",
            "Downloading data from https://earthengine.googleapis.com/v1alpha/projects/earthengine-legacy/thumbnails/a24dc341010d019fadadb4f91cbb7027-249c4aebb9678172f953094c4804cefe:getPixels\n",
            "Please wait ...\n",
            "Data downloaded to /content/drive/MyDrive/Sentinel/Penganga.tif\n",
            "Downloading the image of mine: Sasti\n",
            "Generating URL ...\n",
            "Downloading data from https://earthengine.googleapis.com/v1alpha/projects/earthengine-legacy/thumbnails/79a2c8ebcf914ba5917c71118b3274d9-3d0684571c3f530053bbffba70a2d4b8:getPixels\n",
            "Please wait ...\n",
            "Data downloaded to /content/drive/MyDrive/Sentinel/Sasti.tif\n",
            "Downloading the image of mine: SHIVPURI\n",
            "Generating URL ...\n",
            "Downloading data from https://earthengine.googleapis.com/v1alpha/projects/earthengine-legacy/thumbnails/2065a5d564701c33d268eb50533264a8-26deae6b9612e1bbb873b1cadfc60630:getPixels\n",
            "Please wait ...\n",
            "Data downloaded to /content/drive/MyDrive/Sentinel/SHIVPURI.tif\n",
            "Downloading the image of mine: Pauni-II\n",
            "Generating URL ...\n",
            "Downloading data from https://earthengine.googleapis.com/v1alpha/projects/earthengine-legacy/thumbnails/bc2363aba3e32bbcc33a227997f31000-841a555971f2daa4011fea70dade2b0f:getPixels\n",
            "Please wait ...\n",
            "Data downloaded to /content/drive/MyDrive/Sentinel/Pauni-II.tif\n",
            "Downloading the image of mine: Yekona-1_2\n",
            "Generating URL ...\n",
            "Downloading data from https://earthengine.googleapis.com/v1alpha/projects/earthengine-legacy/thumbnails/0227066fb2b894077e15dde201b808cf-be296364d39dd2c32cb8f018c8d4b2ee:getPixels\n",
            "Please wait ...\n",
            "Data downloaded to /content/drive/MyDrive/Sentinel/Yekona-1_2.tif\n",
            "Downloading the image of mine: Umrer\n",
            "Generating URL ...\n",
            "Downloading data from https://earthengine.googleapis.com/v1alpha/projects/earthengine-legacy/thumbnails/a7bf4d78cd4099ade41b23d6e0ca0e8c-f0456a2e7cb3fb847050d874f2fc582e:getPixels\n",
            "Please wait ...\n",
            "Data downloaded to /content/drive/MyDrive/Sentinel/Umrer.tif\n",
            "Downloading the image of mine: Ukni\n",
            "Generating URL ...\n",
            "Downloading data from https://earthengine.googleapis.com/v1alpha/projects/earthengine-legacy/thumbnails/428ab96d9540de66d728d9e44d439c01-04d6f2949dbdbfe117d39ea4152be0f1:getPixels\n",
            "Please wait ...\n",
            "Data downloaded to /content/drive/MyDrive/Sentinel/Ukni.tif\n",
            "Downloading the image of mine: singhori\n",
            "Generating URL ...\n",
            "Downloading data from https://earthengine.googleapis.com/v1alpha/projects/earthengine-legacy/thumbnails/c79ff75da5011e249f873bb73d70806d-3f50e7e4b3f65584c29504dd976def8c:getPixels\n",
            "Please wait ...\n",
            "Data downloaded to /content/drive/MyDrive/Sentinel/singhori.tif\n",
            "Downloading the image of mine: Naigaon\n",
            "Generating URL ...\n",
            "Downloading data from https://earthengine.googleapis.com/v1alpha/projects/earthengine-legacy/thumbnails/ca78dfcc80ade161939b83edca8fbe98-f7857e4d207a4fefe01ad68cf5c06877:getPixels\n",
            "Please wait ...\n",
            "Data downloaded to /content/drive/MyDrive/Sentinel/Naigaon.tif\n",
            "Downloading the image of mine: New_majri_UG_toOC\n",
            "Generating URL ...\n",
            "Downloading data from https://earthengine.googleapis.com/v1alpha/projects/earthengine-legacy/thumbnails/9d37c225099ea9ea6e0910d808463521-46e29764c6dff62cffdcc0b0418e8e46:getPixels\n",
            "Please wait ...\n",
            "Data downloaded to /content/drive/MyDrive/Sentinel/New_majri_UG_toOC.tif\n",
            "Downloading the image of mine: Padmapur\n",
            "Generating URL ...\n",
            "Downloading data from https://earthengine.googleapis.com/v1alpha/projects/earthengine-legacy/thumbnails/d3e9b763125640d21e039c9f919c3602-d8dc988f867bfc98267552076ad1afd0:getPixels\n",
            "Please wait ...\n",
            "Data downloaded to /content/drive/MyDrive/Sentinel/Padmapur.tif\n",
            "Downloading the image of mine: new_sethia\n",
            "Generating URL ...\n",
            "Downloading data from https://earthengine.googleapis.com/v1alpha/projects/earthengine-legacy/thumbnails/2fe784065bbdc7c5bbbd9dd59c1f5605-7c0d8442c0d9c168b9641c9d2ddb849a:getPixels\n",
            "Please wait ...\n",
            "Data downloaded to /content/drive/MyDrive/Sentinel/new_sethia.tif\n",
            "Downloading the image of mine: Newmajri\n",
            "Generating URL ...\n",
            "Downloading data from https://earthengine.googleapis.com/v1alpha/projects/earthengine-legacy/thumbnails/09db31fd33fce9273709978a68018186-205f1fb373e403db721f96ffa518fe94:getPixels\n",
            "Please wait ...\n",
            "Data downloaded to /content/drive/MyDrive/Sentinel/Newmajri.tif\n",
            "Downloading the image of mine: Navin_kunada_OCP\n",
            "Generating URL ...\n",
            "Downloading data from https://earthengine.googleapis.com/v1alpha/projects/earthengine-legacy/thumbnails/aa7aefece484cff78dcbeb7ddc1ac5bd-3b487ff018db1e7a12360dbc9c290544:getPixels\n",
            "Please wait ...\n",
            "Data downloaded to /content/drive/MyDrive/Sentinel/Navin_kunada_OCP.tif\n",
            "Downloading the image of mine: PAUNIOC\n",
            "Generating URL ...\n",
            "Downloading data from https://earthengine.googleapis.com/v1alpha/projects/earthengine-legacy/thumbnails/f81c25cd07eec91ed312cf05f3a3b813-c2c9b0eb83a9e9898bf4c70d460000e9:getPixels\n",
            "Please wait ...\n",
            "Data downloaded to /content/drive/MyDrive/Sentinel/PAUNIOC.tif\n",
            "Downloading the image of mine: New_majri_UG_toOC\n",
            "Generating URL ...\n",
            "Downloading data from https://earthengine.googleapis.com/v1alpha/projects/earthengine-legacy/thumbnails/9d37c225099ea9ea6e0910d808463521-f108addf07cf0070cc9c938493e4a53c:getPixels\n",
            "Please wait ...\n",
            "Data downloaded to /content/drive/MyDrive/Sentinel/New_majri_UG_toOC.tif\n",
            "Downloading the image of mine: juna-kunada\n",
            "Generating URL ...\n",
            "Downloading data from https://earthengine.googleapis.com/v1alpha/projects/earthengine-legacy/thumbnails/7f821437880e639fb1a4a5d9893228f3-c0edddd4496e9e4a34530ff554f9cf55:getPixels\n",
            "Please wait ...\n",
            "Data downloaded to /content/drive/MyDrive/Sentinel/juna-kunada.tif\n",
            "Downloading the image of mine: Junad_extn\n",
            "Generating URL ...\n",
            "Downloading data from https://earthengine.googleapis.com/v1alpha/projects/earthengine-legacy/thumbnails/248abfc902b259c9249efa9f3c797d05-4a944d16368e1a6c2f691909d62c7242:getPixels\n",
            "Please wait ...\n",
            "Data downloaded to /content/drive/MyDrive/Sentinel/Junad_extn.tif\n",
            "Downloading the image of mine: Inder_ug_to_oc\n",
            "Generating URL ...\n",
            "Downloading data from https://earthengine.googleapis.com/v1alpha/projects/earthengine-legacy/thumbnails/e14ac582671bebe20643f55c0c958bd9-035313e441de6fa2fec94035badc164e:getPixels\n",
            "Please wait ...\n",
            "Data downloaded to /content/drive/MyDrive/Sentinel/Inder_ug_to_oc.tif\n",
            "Downloading the image of mine: MKDIII\n",
            "Generating URL ...\n",
            "Downloading data from https://earthengine.googleapis.com/v1alpha/projects/earthengine-legacy/thumbnails/6d521efdcb6bcb9af21c37b459021add-ab9612753b0d3a83544a57983eee8e2e:getPixels\n",
            "Please wait ...\n",
            "Data downloaded to /content/drive/MyDrive/Sentinel/MKDIII.tif\n",
            "Downloading the image of mine: Kamptee_Deeo\n",
            "Generating URL ...\n",
            "Downloading data from https://earthengine.googleapis.com/v1alpha/projects/earthengine-legacy/thumbnails/e885d9a38339d131d37cd280cb803dfe-ba190c77fbcc2107b62130112bd0e070:getPixels\n",
            "Please wait ...\n",
            "Data downloaded to /content/drive/MyDrive/Sentinel/Kamptee_Deeo.tif\n",
            "Downloading the image of mine: hlocm\n",
            "Generating URL ...\n",
            "Downloading data from https://earthengine.googleapis.com/v1alpha/projects/earthengine-legacy/thumbnails/5b80c1fda1f42425c638916e4b951ff9-04084aade673d08756909d2188147b32:getPixels\n",
            "Please wait ...\n",
            "Data downloaded to /content/drive/MyDrive/Sentinel/hlocm.tif\n",
            "Downloading the image of mine: mkd-2-ocpo\n",
            "Generating URL ...\n",
            "Downloading data from https://earthengine.googleapis.com/v1alpha/projects/earthengine-legacy/thumbnails/2ce5bc16576946c52c73a94b717305c9-768c22de3bb0de0684283442e05c1687:getPixels\n",
            "Please wait ...\n",
            "Data downloaded to /content/drive/MyDrive/Sentinel/mkd-2-ocpo.tif\n",
            "Downloading the image of mine: MKD-1OCP\n",
            "Generating URL ...\n",
            "Downloading data from https://earthengine.googleapis.com/v1alpha/projects/earthengine-legacy/thumbnails/696006f0ddc0a8fac83039edaa821c03-0dc879216de2a5dd9586ea31aef5295b:getPixels\n",
            "Please wait ...\n",
            "Data downloaded to /content/drive/MyDrive/Sentinel/MKD-1OCP.tif\n",
            "Downloading the image of mine: Kolarpimpri-ocp\n",
            "Generating URL ...\n",
            "Downloading data from https://earthengine.googleapis.com/v1alpha/projects/earthengine-legacy/thumbnails/7301f7a7d1301c10138ab6962acc91fa-269fa5f6115e1f7101d0389dab37e060:getPixels\n",
            "Please wait ...\n",
            "Data downloaded to /content/drive/MyDrive/Sentinel/Kolarpimpri-ocp.tif\n",
            "Downloading the image of mine: kolgaon\n",
            "Generating URL ...\n",
            "Downloading data from https://earthengine.googleapis.com/v1alpha/projects/earthengine-legacy/thumbnails/795890da40013babf780f07202e31891-52f310f7e428a4867c0c5e66f51236fd:getPixels\n",
            "Please wait ...\n",
            "Data downloaded to /content/drive/MyDrive/Sentinel/kolgaon.tif\n",
            "Downloading the image of mine: Durgapur\n",
            "Generating URL ...\n",
            "Downloading data from https://earthengine.googleapis.com/v1alpha/projects/earthengine-legacy/thumbnails/edf61539509e11f533e6b97177650c0b-b35103ff5a43cdfc62b443398b682087:getPixels\n",
            "Please wait ...\n",
            "Data downloaded to /content/drive/MyDrive/Sentinel/Durgapur.tif\n",
            "Downloading the image of mine: Gauri_1_2\n",
            "Generating URL ...\n",
            "Downloading data from https://earthengine.googleapis.com/v1alpha/projects/earthengine-legacy/thumbnails/87bf0059db7ab0f1c535d600ab1387f4-1de17f3d4b598508e0d363a4265911c7:getPixels\n",
            "Please wait ...\n",
            "Data downloaded to /content/drive/MyDrive/Sentinel/Gauri_1_2.tif\n",
            "Downloading the image of mine: Gauri_deep\n",
            "Generating URL ...\n",
            "Downloading data from https://earthengine.googleapis.com/v1alpha/projects/earthengine-legacy/thumbnails/7b404917ace91512fae9aac74e5207b4-4a1265511dbe424b7f32e3328f2227f0:getPixels\n",
            "Please wait ...\n",
            "Data downloaded to /content/drive/MyDrive/Sentinel/Gauri_deep.tif\n",
            "Downloading the image of mine: Dhorwasa\n",
            "Generating URL ...\n",
            "Downloading data from https://earthengine.googleapis.com/v1alpha/projects/earthengine-legacy/thumbnails/222b175d284a405ecf596eee6f8943a2-cff6b5d480c372899a86f44f15f0fcbb:getPixels\n",
            "Please wait ...\n",
            "Data downloaded to /content/drive/MyDrive/Sentinel/Dhorwasa.tif\n",
            "Downloading the image of mine: damua\n",
            "Generating URL ...\n",
            "Downloading data from https://earthengine.googleapis.com/v1alpha/projects/earthengine-legacy/thumbnails/e390775d28e2194a519d60be45cadb3a-d5b1f0ccd18c04eee9bb369afcd16e7c:getPixels\n",
            "Please wait ...\n",
            "Data downloaded to /content/drive/MyDrive/Sentinel/damua.tif\n",
            "Downloading the image of mine: gokul\n",
            "Generating URL ...\n",
            "Downloading data from https://earthengine.googleapis.com/v1alpha/projects/earthengine-legacy/thumbnails/14b97b230ea273d38db74560d8a80565-84460b8b1829e578b58b28a28de7dcc9:getPixels\n",
            "Please wait ...\n",
            "Data downloaded to /content/drive/MyDrive/Sentinel/gokul.tif\n",
            "Downloading the image of mine: Gondegaon\n",
            "Generating URL ...\n",
            "An error occurred while downloading.\n",
            "Pixel grid dimensions (5215x27156) must be less than or equal to 10000.\n",
            "Downloading the image of mine: ghonsa\n",
            "Generating URL ...\n",
            "Downloading data from https://earthengine.googleapis.com/v1alpha/projects/earthengine-legacy/thumbnails/efe868ec55a3e2c3bf12e0968786fec2-10349595ff823f2e860a78896059cd7b:getPixels\n",
            "Please wait ...\n",
            "Data downloaded to /content/drive/MyDrive/Sentinel/ghonsa.tif\n",
            "Downloading the image of mine: datla_ocp\n",
            "Generating URL ...\n",
            "Downloading data from https://earthengine.googleapis.com/v1alpha/projects/earthengine-legacy/thumbnails/cd9668cb4cf45fde1534bae56419ca1c-584f2f36f42c9f33a3d93ed5eefe33c2:getPixels\n",
            "Please wait ...\n",
            "Data downloaded to /content/drive/MyDrive/Sentinel/datla_ocp.tif\n",
            "Downloading the image of mine: GHORAWARI\n",
            "Generating URL ...\n",
            "Downloading data from https://earthengine.googleapis.com/v1alpha/projects/earthengine-legacy/thumbnails/0af2f9eb4dcebd3d447bca0a7edc41e1-918ef32dc8f4183aca45f0eaa0b45bbd:getPixels\n",
            "Please wait ...\n",
            "Data downloaded to /content/drive/MyDrive/Sentinel/GHORAWARI.tif\n",
            "Downloading the image of mine: CHHINDA\n",
            "Generating URL ...\n",
            "Downloading data from https://earthengine.googleapis.com/v1alpha/projects/earthengine-legacy/thumbnails/7c6a8f1f7cc516ae4354b93a528f583b-9e0fdecebfae487d96bd5a5640b78496:getPixels\n",
            "Please wait ...\n",
            "Data downloaded to /content/drive/MyDrive/Sentinel/CHHINDA.tif\n",
            "Downloading the image of mine: ambara\n",
            "Generating URL ...\n",
            "Downloading data from https://earthengine.googleapis.com/v1alpha/projects/earthengine-legacy/thumbnails/7fb94458498721275ea48bb98e9e4617-e54d0977b5e46d14adbd35bc05fc670d:getPixels\n",
            "Please wait ...\n",
            "Data downloaded to /content/drive/MyDrive/Sentinel/ambara.tif\n",
            "Downloading the image of mine: BHATADIOC\n",
            "Generating URL ...\n",
            "Downloading data from https://earthengine.googleapis.com/v1alpha/projects/earthengine-legacy/thumbnails/70dda402dcc45fd345613d229e41577f-30d63f84f5cdeaad3c58167e1c57d935:getPixels\n",
            "Please wait ...\n",
            "Data downloaded to /content/drive/MyDrive/Sentinel/BHATADIOC.tif\n",
            "Downloading the image of mine: BALLARPUR\n",
            "Generating URL ...\n",
            "Downloading data from https://earthengine.googleapis.com/v1alpha/projects/earthengine-legacy/thumbnails/95c8583d9b3f95f5012eb2bb21a8920f-2fa658ee3c4a7b748c6ef6a38acd2173:getPixels\n",
            "Please wait ...\n",
            "Data downloaded to /content/drive/MyDrive/Sentinel/BALLARPUR.tif\n",
            "Downloading the image of mine: Bhanegaon\n",
            "Generating URL ...\n",
            "Downloading data from https://earthengine.googleapis.com/v1alpha/projects/earthengine-legacy/thumbnails/8294a331fea065e853f86f2605d1cfc4-6c73e1c93b1735a5252504c86c85c433:getPixels\n",
            "Please wait ...\n",
            "Data downloaded to /content/drive/MyDrive/Sentinel/Bhanegaon.tif\n",
            "Downloading the image of mine: Barkuhi\n",
            "Generating URL ...\n",
            "Downloading data from https://earthengine.googleapis.com/v1alpha/projects/earthengine-legacy/thumbnails/ae413520bef4ee4a70187c874c2cfc72-6289b639c2cfb96f6c05764645ccb4e9:getPixels\n",
            "Please wait ...\n",
            "Data downloaded to /content/drive/MyDrive/Sentinel/Barkuhi.tif\n",
            "Downloading the image of mine: ADASA_UG_TO_OC\n",
            "Generating URL ...\n",
            "Downloading data from https://earthengine.googleapis.com/v1alpha/projects/earthengine-legacy/thumbnails/2ddd713f46e80cc1dbcf175423915b03-78451db31d4219edc79eaf4edcab2c47:getPixels\n",
            "Please wait ...\n",
            "Data downloaded to /content/drive/MyDrive/Sentinel/ADASA_UG_TO_OC.tif\n"
          ]
        }
      ]
    },
    {
      "cell_type": "code",
      "source": [
        ""
      ],
      "metadata": {
        "id": "_FUTn_pZP7nn"
      },
      "execution_count": 153,
      "outputs": []
    },
    {
      "cell_type": "code",
      "source": [
        ""
      ],
      "metadata": {
        "id": "HqSQXOZNQq-8"
      },
      "execution_count": 126,
      "outputs": []
    },
    {
      "cell_type": "code",
      "source": [
        ""
      ],
      "metadata": {
        "id": "EuLa7uqgRJM6"
      },
      "execution_count": null,
      "outputs": []
    }
  ]
}