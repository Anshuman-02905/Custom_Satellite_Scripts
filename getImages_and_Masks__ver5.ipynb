{
  "nbformat": 4,
  "nbformat_minor": 0,
  "metadata": {
    "colab": {
      "name": "getImages_and_Masks__ver5.ipynb",
      "provenance": [],
      "include_colab_link": true
    },
    "kernelspec": {
      "name": "python3",
      "display_name": "Python 3"
    },
    "language_info": {
      "name": "python"
    }
  },
  "cells": [
    {
      "cell_type": "markdown",
      "metadata": {
        "id": "view-in-github",
        "colab_type": "text"
      },
      "source": [
        "<a href=\"https://colab.research.google.com/github/Anshuman-02905/Custom_Satellite_Scripts/blob/main/getImages_and_Masks__ver5.ipynb\" target=\"_parent\"><img src=\"https://colab.research.google.com/assets/colab-badge.svg\" alt=\"Open In Colab\"/></a>"
      ]
    },
    {
      "cell_type": "code",
      "source": [
        "'''\n",
        "Map=geemap.Map()\n",
        "state = ee.FeatureCollection(\"FAO/GAUL/2015/level2\").filter(ee.Filter.eq('ADM2_NAME','Bangalore Urban'))\n",
        "sentinel = ee.ImageCollection('COPERNICUS/S2_SR').select(['B4', 'B3', 'B2']) \\\n",
        "                  .filterDate('2017-01-01', '2020-01-30') \\\n",
        "                  .filter(ee.Filter.lt('CLOUDY_PIXEL_PERCENTAGE',5)) \\\n",
        "                  .filterBounds(state)\n",
        "image = sentinel.mean().divide(10000).clip(state).select(['B4', 'B3', 'B2']).unmask()\n",
        "\n",
        "visualization = {\n",
        "  'min': 0.0,\n",
        "  'max': 0.3,\n",
        "  'bands': ['B4', 'B3', 'B2'],\n",
        "  }\n",
        "#Map.addLayer(sentinel.mean().divide(10000).clip(state), visualization, 'RGB')\n",
        "\n",
        "mask = ee.Image(\"DLR/WSF/WSF2015/v1\").clip(state)\n",
        "\n",
        "visualization = {\n",
        "  'min': 0,\n",
        "  'max': 255,\n",
        "}\n",
        "\n",
        "#Map.addLayer(urban.clip(state), visualization, \"Human1\")\n",
        "mask=mask.expression('b(\"settlement\") == 255 ? 255:0',{'settlement':mask.select('settlement')}).clip(state)\n",
        "\n",
        "Map.addLayer(mask, visualization, \"Human2\")\n",
        "Map.centerObject(state)\n",
        "Sentinel=\"/content/Sentinel_tif/\"+\"sentinel.tif\"\n",
        "urban=\"/content/Urban_tif/\"+\"final.tif\"\n",
        "\n",
        "geemap.ee_export_image(mask, filename=urban, scale=50, region=state.geometry(), file_per_band=False)\n",
        "geemap.ee_export_image(image, filename=Sentinel, scale=50, region=state.geometry(), file_per_band=False)\n",
        "text1=\"/content/Sentinel_png/\"+\"sentinel\"+\".png\"\n",
        "text2=\"/content/Mask_png/\"+\"final\"+\".png\"\n",
        "options_list = ['-ot Byte','-of PNG','-scale 0 0.3 0 255'] \n",
        "options_string = \" \".join(options_list) \n",
        "gdal.Translate(text1,Sentinel, options=options_string)\n",
        "options_list = ['-ot Byte','-of PNG'] \n",
        "options_string = \" \".join(options_list)\n",
        "gdal.Translate(text2, urban, options=options_string) \n",
        "\n",
        "#state = ee.FeatureCollection(\"FAO/GAUL/2015/level2\").filter(ee.Filter.eq('ADM2_NAME','Bangalore Urban'))\n",
        "#shps=state.getInfo()['features'][0]['geometry']['coordinates']\n",
        "#state.getInfo()['features'][0]['geometry']['coordinates']\n",
        "final_list = [item for sublist in shps for item in sublist]\n",
        "min_lat=1000;\n",
        "min_lon=1000;\n",
        "max_lat=-1000;\n",
        "max_lon=-1000;\n",
        "for i in final_list:\n",
        "  min_lat=min(min_lat,i[0])\n",
        "  min_lon=min(min_lon,i[1])\n",
        "  max_lat=max(max_lat,i[0])\n",
        "  max_lon=max(max_lon,i[1])\n",
        "min_lon-=0.00098\n",
        "max_lon+=0.00998\n",
        "left_upper=tuple([min_lat,min_lon])\n",
        "left_lower=tuple([max_lat,min_lon])\n",
        "right_lower=tuple([max_lat,max_lon])\n",
        "right_upper=tuple([min_lat,max_lon])\n",
        "#def get_distance(LA1,LN1,LA2,LN2):\n",
        "#  return math.sqrt(math.pow((LA1-LA2),2)+math.pow((LN1-LN2),2))\n",
        "#left_dist=get_distance(left_upper[0],left_upper[1],left_lower[0],left_lower[1])\n",
        "#print(left_dist)\n",
        "#right_dist=get_distance(right_upper[0],right_upper[1],right_lower[0],right_lower[1])\n",
        "#print(right_dist)\n",
        "#upper_dist=get_distance(left_upper[0],left_upper[1],right_upper[0],right_upper[1])\n",
        "#print(upper_dist)\n",
        "#lower_dist=get_distance(left_lower[0],left_lower[1],right_lower[0],right_lower[1])\n",
        "#print(lower_dist)\n",
        "left_dist=0.5033789690619983\n",
        "right_dist=0.5033789690619983\n",
        "upper_dist=0.5859878671830234\n",
        "lower_dist=0.5859878671830234\n",
        "\n",
        "'''"
      ],
      "metadata": {
        "id": "MMvelDxk-fKR"
      },
      "execution_count": null,
      "outputs": []
    },
    {
      "cell_type": "code",
      "execution_count": 1,
      "metadata": {
        "id": "E7opf9iM5oTS"
      },
      "outputs": [],
      "source": [
        "%%capture\n",
        "!pip install geemap\n",
        "!pip install geopandas\n",
        "!apt-get update\n",
        "!apt-get install libgdal-dev -y\n",
        "!apt-get install python-gdal -y\n",
        "!apt-get install python-numpy python-scipy -y"
      ]
    },
    {
      "cell_type": "code",
      "source": [
        "import geemap\n",
        "import os\n",
        "import glob\n",
        "import gdal ## fingers crossed!\n",
        "import os\n",
        "import ee\n",
        "import pandas as pd\n",
        "import numpy as np\n",
        "import math\n",
        "import geopandas as gpd\n",
        "import pandas as pd\n",
        "from shapely.geometry import Point, Polygon\n",
        "import folium\n",
        "import os"
      ],
      "metadata": {
        "id": "t9fRr-GW5zFb"
      },
      "execution_count": 3,
      "outputs": []
    },
    {
      "cell_type": "code",
      "source": [
        "from google.colab import drive\n",
        "drive.mount('/content/drive')"
      ],
      "metadata": {
        "colab": {
          "base_uri": "https://localhost:8080/"
        },
        "id": "gTbAiUVe8gvv",
        "outputId": "87334761-fc73-4db6-aec8-4cf899bc298a"
      },
      "execution_count": 4,
      "outputs": [
        {
          "output_type": "stream",
          "name": "stdout",
          "text": [
            "Mounted at /content/drive\n"
          ]
        }
      ]
    },
    {
      "cell_type": "code",
      "source": [
        "#os.mkdir(\"/content/drive/MyDrive/DATASET\")\n",
        "os.mkdir(\"/content/drive/MyDrive/DATASET/Sentinel_png\")\n",
        "os.mkdir(\"/content/drive/MyDrive/DATASET/Mask_png\")\n",
        "os.mkdir(\"/content/drive/MyDrive/DATASET/Sentinel_tif\")\n",
        "os.mkdir(\"/content/drive/MyDrive/DATASET/Urban_tif\")\n"
      ],
      "metadata": {
        "id": "1WUzLE7S6If6"
      },
      "execution_count": 9,
      "outputs": []
    },
    {
      "cell_type": "code",
      "source": [
        "Sentinel_tif=\"/content/drive/MyDrive/DATASET/Sentinel_png/\"\n",
        "urban_tif=\"/content/drive/MyDrive/DATASET/Mask_png/\"\n",
        "Sentinel_png=\"/content/drive/MyDrive/DATASET/Sentinel_tif/\"\n",
        "Mask_png=\"/content/drive/MyDrive/DATASET/Urban_tif/\""
      ],
      "metadata": {
        "id": "zOIWRI6_fhLO"
      },
      "execution_count": 10,
      "outputs": []
    },
    {
      "cell_type": "code",
      "source": [
        "Map=geemap.Map() "
      ],
      "metadata": {
        "id": "eEQCBJoz50gq"
      },
      "execution_count": 11,
      "outputs": []
    },
    {
      "cell_type": "code",
      "source": [
        "def func(c):\n",
        "  try:\n",
        "    mine_shp=\"/content/newboundary.shp\"\n",
        "    mine = geemap.shp_to_ee(mine_shp) \n",
        "    Map=geemap.Map()\n",
        "    state = mine\n",
        "    #Map=geemap.Map()\n",
        "    #state = ee.FeatureCollection(\"FAO/GAUL/2015/level2\").filter(ee.Filter.eq('ADM2_NAME','Bangalore Urban'))\n",
        "    sentinel = ee.ImageCollection('COPERNICUS/S2_SR').select(['B4', 'B3', 'B2']) \\\n",
        "                  .filterDate('2017-01-01', '2020-01-30') \\\n",
        "                  .filter(ee.Filter.lt('CLOUDY_PIXEL_PERCENTAGE',5)) \\\n",
        "                  .filterBounds(state)\n",
        "    image = sentinel.mean().divide(10000).clip(state).select(['B4', 'B3', 'B2']).unmask()\n",
        "\n",
        "    visualization = {\n",
        "    'min': 0.0,\n",
        "    'max': 0.3,\n",
        "    'bands': ['B4', 'B3', 'B2'],\n",
        "    }\n",
        "    Map.addLayer(image, visualization, 'RGB')\n",
        "\n",
        "    mask = ee.Image(\"DLR/WSF/WSF2015/v1\").clip(state)\n",
        "\n",
        "    visualization = {\n",
        "    'min': 0,\n",
        "    'max': 255,\n",
        "    }\n",
        "\n",
        "    #Map.addLayer(urban.clip(state), visualization, \"Human1\")\n",
        "    mask=mask.expression('b(\"settlement\") == 255 ? 255:0',{'settlement':mask.select('settlement')}).clip(state)\n",
        "\n",
        "    Map.addLayer(mask, visualization, \"Human2\")\n",
        "    Map.centerObject(image)\n",
        "    Sentinel=Sentinel_tif+str(c)+\".tif\"\n",
        "    urban=urban_tif+str(c)+\".tif\"\n",
        "\n",
        "    geemap.ee_export_image(mask, filename=urban, scale=10, region=state.geometry(), file_per_band=False)\n",
        "    geemap.ee_export_image(image, filename=Sentinel, scale=10, region=state.geometry(), file_per_band=False)\n",
        "    Sentinel_mask=Sentinel_png+str(c)+\".png\"\n",
        "    Mask_mask=Mask_png+str(c)+\".png\"\n",
        "    options_list = ['-ot Byte','-of PNG','-scale 0 0.3 0 255'] \n",
        "    options_string = \" \".join(options_list) \n",
        "    gdal.Translate(Sentinel_mask,Sentinel, options=options_string)\n",
        "    options_list = ['-ot Byte','-of PNG'] \n",
        "    options_string = \" \".join(options_list)\n",
        "    gdal.Translate(Mask_mask, urban, options=options_string)\n",
        "    xml1=Sentinel_mask+\".aux.xml\"\n",
        "    xml2=Mask_mask+\".aux.xml\"\n",
        "    os.remove(xml1)\n",
        "    os.remove(xml2)\n",
        "    return 1\n",
        "  except Exception as e:\n",
        "    print(e)\n",
        "    print(\"Exception\")\n",
        "    return -1"
      ],
      "metadata": {
        "id": "fvQDdHm04fwR"
      },
      "execution_count": 12,
      "outputs": []
    },
    {
      "cell_type": "code",
      "source": [
        "def get_boundaries(final_list,c):\n",
        "  coordinates = final_list\n",
        "  def create_polygon(coords, polygon_name):\n",
        "    ''' Create a polygon from coordinates'''\n",
        "    polygon = Polygon(coordinates)\n",
        "    gdf = gpd.GeoDataFrame(crs = {'init' :'epsg:4326'})\n",
        "    gdf.loc[0,'name'] = polygon_name\n",
        "    gdf.loc[0, 'geometry'] = polygon\n",
        "    return gdf\n",
        "  shapefile = create_polygon(coordinates, \"Amesterdam\")\n",
        "  shapefile.to_file(\"newboundary.shp\")\n",
        "  mine_shp=\"/content/newboundary.shp\"\n",
        "  mine = geemap.shp_to_ee(mine_shp) \n",
        "  return func(c)\n",
        "  #return -1\n",
        "\n",
        "  "
      ],
      "metadata": {
        "id": "PQzSTGoK4rzf"
      },
      "execution_count": 13,
      "outputs": []
    },
    {
      "cell_type": "code",
      "source": [
        "left_dist=0.1033789690619983\n",
        "right_dist=0.1033789690619983\n",
        "upper_dist=0.1402878671830234\n",
        "lower_dist=0.1402878671830234"
      ],
      "metadata": {
        "id": "C5iSfxM_5Fyg"
      },
      "execution_count": 14,
      "outputs": []
    },
    {
      "cell_type": "code",
      "source": [
        "final_list=list()\n",
        "#cord=[0, 0]\n",
        "cord=[12.977200441508167, 77.58441571886084]\n",
        "\n",
        "Lat=cord[0]\n",
        "Lon=cord[1]\n",
        "c=0\n",
        "for i in range(0,1):\n",
        "  Lon=cord[1]\n",
        "  for j in range(0,1):\n",
        "    print(\"Image_number\",c)\n",
        "    LL=[Lon,Lat]\n",
        "    UL=[Lon,Lat+left_dist]\n",
        "    LR=[Lon+lower_dist,Lat]\n",
        "    UR=[Lon+lower_dist,Lat+left_dist]\n",
        "    final_list=[LL,LR,UR,UL,LL]\n",
        "    result=get_boundaries(final_list,c)\n",
        "    if result!=-1:\n",
        "      c+=1\n",
        "    print(final_list)\n",
        "\n",
        "    Lon+=lower_dist\n",
        "  Lat+=left_dist\n",
        " #Map.setCenter(cord[1],cord[0],10)\n",
        "#Map\n",
        "#print(final_list)"
      ],
      "metadata": {
        "colab": {
          "base_uri": "https://localhost:8080/",
          "height": 292
        },
        "id": "sccE_dwp4zPn",
        "outputId": "5365111c-14db-47d7-d195-7906a8a7f5da"
      },
      "execution_count": 15,
      "outputs": [
        {
          "output_type": "stream",
          "name": "stdout",
          "text": [
            "Image_number 0\n"
          ]
        },
        {
          "output_type": "stream",
          "name": "stderr",
          "text": [
            "/usr/local/lib/python3.7/dist-packages/pyproj/crs/crs.py:131: FutureWarning: '+init=<authority>:<code>' syntax is deprecated. '<authority>:<code>' is the preferred initialization method. When making the change, be mindful of axis order changes: https://pyproj4.github.io/pyproj/stable/gotchas.html#axis-order-changes-in-proj-6\n",
            "  in_crs_string = _prepare_from_proj_string(in_crs_string)\n",
            "/usr/local/lib/python3.7/dist-packages/ipykernel_launcher.py:6: FutureWarning: Assigning CRS to a GeoDataFrame without a geometry column is now deprecated and will not be supported in the future.\n",
            "  \n"
          ]
        },
        {
          "output_type": "stream",
          "name": "stdout",
          "text": [
            "Generating URL ...\n",
            "Downloading data from https://earthengine.googleapis.com/v1alpha/projects/earthengine-legacy/thumbnails/78a13a73a0f790f612f869b385c1859e-6ae7c81255408f0c4aefa0433e7aae82:getPixels\n",
            "Please wait ...\n",
            "Data downloaded to /content/drive/MyDrive/DATASET/Mask_png/0.tif\n",
            "Generating URL ...\n",
            "Downloading data from https://earthengine.googleapis.com/v1alpha/projects/earthengine-legacy/thumbnails/2f34ef0f6766e86b1138b29ef725ae5c-ba4b5dc92181fb53498dfc4d3430fc1f:getPixels\n",
            "Please wait ...\n",
            "Data downloaded to /content/drive/MyDrive/DATASET/Sentinel_png/0.tif\n",
            "[[77.58441571886084, 12.977200441508167], [77.72470358604386, 12.977200441508167], [77.72470358604386, 13.080579410570165], [77.58441571886084, 13.080579410570165], [77.58441571886084, 12.977200441508167]]\n"
          ]
        }
      ]
    },
    {
      "cell_type": "code",
      "source": [
        ""
      ],
      "metadata": {
        "id": "2T5gpCJcl9py"
      },
      "execution_count": null,
      "outputs": []
    }
  ]
}