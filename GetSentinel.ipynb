{
  "nbformat": 4,
  "nbformat_minor": 0,
  "metadata": {
    "colab": {
      "name": "GetSentinel.ipynb",
      "provenance": [],
      "mount_file_id": "1OmCQfRVLFwCGV160a7osvBOF0G2PRk3R",
      "authorship_tag": "ABX9TyPGAisXSMlOPFoYLc86buqP",
      "include_colab_link": true
    },
    "kernelspec": {
      "name": "python3",
      "display_name": "Python 3"
    },
    "language_info": {
      "name": "python"
    }
  },
  "cells": [
    {
      "cell_type": "markdown",
      "metadata": {
        "id": "view-in-github",
        "colab_type": "text"
      },
      "source": [
        "<a href=\"https://colab.research.google.com/github/Anshuman-02905/Custom_Satellite_Scripts/blob/main/GetSentinel.ipynb\" target=\"_parent\"><img src=\"https://colab.research.google.com/assets/colab-badge.svg\" alt=\"Open In Colab\"/></a>"
      ]
    },
    {
      "cell_type": "code",
      "source": [
        "'''gdalinput = '/content/ADASA_UG_TO_OC.tif'\n",
        "gdaloutput = '/content/ADASA_UG_TO_OC.png'\n",
        "options_list = ['-ot Byte','-of PNG','-scale 0 0.3 0 255'] \n",
        "options_string = \" \".join(options_list)    \n",
        "gdal.Translate(gdaloutput, gdalinput, options=options_string)'''"
      ],
      "metadata": {
        "id": "6nKvlRpG4rqQ"
      },
      "execution_count": null,
      "outputs": []
    },
    {
      "cell_type": "code",
      "source": [
        "'''import os\n",
        "import glob\n",
        "\n",
        "files = glob.glob('/content/drive/MyDrive/Images/*')\n",
        "for f in files:\n",
        "    os.remove(f)'''\n",
        "\n",
        "'''"
      ],
      "metadata": {
        "id": "Q22my1RV4w70"
      },
      "execution_count": 34,
      "outputs": []
    },
    {
      "cell_type": "code",
      "execution_count": null,
      "metadata": {
        "id": "SIxqNPVezPs8"
      },
      "outputs": [],
      "source": [
        "!pip install geemap\n",
        "!pip install geopandas\n",
        "!apt-get update\n",
        "!apt-get install libgdal-dev -y\n",
        "!apt-get install python-gdal -y\n",
        "!apt-get install python-numpy python-scipy -y"
      ]
    },
    {
      "cell_type": "code",
      "source": [
        "import geemap\n",
        "import os\n",
        "import glob\n",
        "import gdal ## fingers crossed!\n",
        "import os\n",
        "import ee"
      ],
      "metadata": {
        "id": "ijJyRaS8zVUo"
      },
      "execution_count": 13,
      "outputs": []
    },
    {
      "cell_type": "code",
      "source": [
        "Map=geemap.Map()"
      ],
      "metadata": {
        "id": "W13PolXT0FV4"
      },
      "execution_count": 15,
      "outputs": []
    },
    {
      "cell_type": "code",
      "source": [
        "missing=[]\n",
        "Shape_path=\"/content/drive/MyDrive/mines\"\n",
        "mine_path=\"/content/drive/MyDrive/Sentinel_raw/\"\n",
        "image_path=\"/content/drive/MyDrive/Images/\""
      ],
      "metadata": {
        "id": "7gmbEOww1T3k"
      },
      "execution_count": 39,
      "outputs": []
    },
    {
      "cell_type": "code",
      "source": [
        ""
      ],
      "metadata": {
        "id": "TKmHZ9rj1sV8"
      },
      "execution_count": 30,
      "outputs": []
    },
    {
      "cell_type": "code",
      "source": [
        "\n",
        "def download_image(mine_shape,mine_input,image_output):\n",
        "  dataset = ee.ImageCollection('COPERNICUS/S2_SR').select(['B4', 'B3', 'B2']) \\\n",
        "                  .filterDate('2017-01-01', '2020-01-30') \\\n",
        "                  .filter(ee.Filter.lt('CLOUDY_PIXEL_PERCENTAGE',5)) \\\n",
        "                  .filterBounds(mine_shape)\n",
        "\n",
        "  visualization = {\n",
        "  'min': 0.0,\n",
        "  'max': 0.3,\n",
        "  'bands': ['B4', 'B3', 'B2'],\n",
        "  }\n",
        "\n",
        "  #Map.centerObject(dataset, 12)\n",
        "  #Map.addLayer(dataset.mean().divide(10000).clip(mine), visualization, 'RGB')\n",
        "\n",
        "  image = dataset.mean().divide(10000).select(['B4', 'B3', 'B2']).unmask()\n",
        "  geemap.ee_export_image(image, filename=mine_input, scale=10, region=mine.geometry(), file_per_band=False)\n",
        "\n",
        "  options_list = ['-ot Byte','-of PNG','-scale 0 0.3 0 255'] \n",
        "  options_string = \" \".join(options_list) \n",
        "  if os.path.exists(mine_input):   \n",
        "    gdal.Translate(image_output, mine_input, options=options_string)\n",
        "    rem_path=image_output+\".aux.xml\"\n",
        "    os.remove(rem_path)\n",
        "  else:\n",
        "    missing.append(mine_name)\n"
      ],
      "metadata": {
        "id": "ySHSyb92nmk3"
      },
      "execution_count": 45,
      "outputs": []
    },
    {
      "cell_type": "code",
      "source": [
        ""
      ],
      "metadata": {
        "id": "eNz-3ZzQtsZq"
      },
      "execution_count": null,
      "outputs": []
    },
    {
      "cell_type": "code",
      "source": [
        "for path, subdirs, files in os.walk(Shape_path):\n",
        "  #print(files)\n",
        "  for item in files:\n",
        "    if(item.split('.')[-1]=='shp' and item.split('.')[0][-3:]!=\"gcs\"):\n",
        "      #print(path+\"/\"+item)\n",
        "      mine_shp = path+\"/\"+item\n",
        "      mine = geemap.shp_to_ee(mine_shp)\n",
        "      mine_name=item.split('.')[0]\n",
        "      mine_input=mine_path+mine_name+\".tif\"\n",
        "      image_output=image_path+mine_name+\".png\"\n",
        "      rem_path=image_output+\".aux.xml\"\n",
        "      #print(rem_path)\n",
        "      print(\"Downloading the image of mine: \"+mine_name)\n",
        "      download_image(mine,mine_input,image_output)\n",
        "      \n",
        "    "
      ],
      "metadata": {
        "id": "e3Eonvsu2CSQ"
      },
      "execution_count": null,
      "outputs": []
    }
  ]
}